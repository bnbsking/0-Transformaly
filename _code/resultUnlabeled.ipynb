{
 "cells": [
  {
   "cell_type": "code",
   "execution_count": 1,
   "id": "wound-somerset",
   "metadata": {},
   "outputs": [],
   "source": [
    "import glob, math, os, random, json\n",
    "import numpy as np\n",
    "import matplotlib.pyplot as plt\n",
    "import matplotlib as mpl\n",
    "import cv2"
   ]
  },
  {
   "cell_type": "code",
   "execution_count": 2,
   "id": "accepted-copyright",
   "metadata": {},
   "outputs": [
    {
     "name": "stdout",
     "output_type": "stream",
     "text": [
      "7\n",
      "17763\n",
      "104\n"
     ]
    }
   ],
   "source": [
    "! ls /home/jovyan/nas-dataset/JUPR/MAM20044/Bad/*.png | wc -l\n",
    "! ls /home/jovyan/nas-dataset/JUPR/MAM20044/Good/*.png | wc -l\n",
    "! ls /home/jovyan/nas-dataset/JUPR/888/*.jpg | wc -l"
   ]
  },
  {
   "cell_type": "code",
   "execution_count": 2,
   "id": "together-warren",
   "metadata": {},
   "outputs": [],
   "source": [
    "sigmoid = lambda z: 1/(1+math.e**(-z)) if z>-750 else 0\n",
    "\n",
    "class ResultUnlabeled: # inference on good folder -> pick bad and random pick \n",
    "    def __init__(self, pdNpyPath, c0ImgPathL, threshold):\n",
    "        scoreL   = [ sigmoid(gmmScore) for gmmScore in np.load(pdNpyPath) ]\n",
    "        #assert len(scoreL)==len(c0ImgPathL), (len(scoreL),len(c0ImgPathL))\n",
    "        resultL  = sorted(list(zip(scoreL, c0ImgPathL)))\n",
    "        self.pdB = [ (score,os.path.abspath(imgPath)) for score,imgPath in resultL if score<threshold  ]\n",
    "        self.pdG = [ (score,os.path.abspath(imgPath)) for score,imgPath in resultL if score>=threshold ]\n",
    "        self.outputPath = os.path.abspath(pdNpyPath+\"/../\")\n",
    "        print(f\"predict negative rate = {len(self.pdB)/len(resultL)}\")\n",
    "        \n",
    "    def plotDistribution(self):\n",
    "        plt.plot( [ score for score,_ in self.pdB ] )\n",
    "        plt.xlabel(f\"data sorted by score\", fontsize=16)\n",
    "        plt.ylabel(\"confidence\", fontsize=16)\n",
    "        plt.grid(1)\n",
    "        plt.show()\n",
    "    \n",
    "    def visualize(self, bTopN=30, gMaxN=30):\n",
    "        self.samplePdB = self.pdB[:bTopN]\n",
    "        self.samplePdG = random.Random(7).sample(self.pdG, gMaxN)\n",
    "        if 1: return\n",
    "        for mode,sampleL in zip(['pd-Bad','pd-Good'], [self.samplePdB, self.samplePdG]):\n",
    "            print(mode)        \n",
    "            rows = len(sampleL)//10\n",
    "            plt.figure( figsize=(6*10,6*rows) )\n",
    "            for i in range(rows):\n",
    "                for j in range(10):\n",
    "                    plt.subplot(rows,10,10*i+j+1)\n",
    "                    plt.imshow( cv2.imread( sampleL[10*i+j][1] )[:,:,::-1] )\n",
    "                    plt.axis('off')\n",
    "                    plt.title( str(10*i+j), fontsize=32 )\n",
    "            plt.show()\n",
    "        \n",
    "    def save(self, TP, FP, FN, TN):\n",
    "        pathM = [ [ [ self.samplePdB[i][1] for i in TP ], [ self.samplePdB[i][1] for i in FP ] ], \\\n",
    "                  [ [ self.samplePdG[i][1] for i in FN ], [ self.samplePdG[i][1] for i in TN ] ] ]\n",
    "        M = np.array([ [len(pathM[0][0]), len(pathM[0][1])], [len(pathM[1][0]), len(pathM[1][1])] ])\n",
    "        #\n",
    "        axis0sum = M.sum(axis=0)\n",
    "        N = M.copy().astype(np.float)\n",
    "        for i in range(len(N)):\n",
    "            if axis0sum[i] != 0:\n",
    "                N[:,i] /= axis0sum[i]\n",
    "        #\n",
    "        axis1sum = M.sum(axis=1)\n",
    "        P = M.copy().astype(np.float)\n",
    "        for i in range(len(P)):\n",
    "            if axis1sum[i] != 0:\n",
    "                P[i,:] /= axis1sum[i]\n",
    "        #\n",
    "        plt.figure(figsize=(5*3,4))\n",
    "        # fig1 - number\n",
    "        fig = plt.subplot(1,3,1)\n",
    "        plt.title(f\"Confusion Matrix - Number (conf={0.5})\", fontsize=12)\n",
    "        plt.xlabel(\"GT\", fontsize=12)\n",
    "        plt.ylabel(\"PD\", fontsize=12)\n",
    "        fig.set_xticks([0,1]) # values\n",
    "        fig.set_xticklabels(['BAD','GOOD']) # labels\n",
    "        fig.set_yticks([0,1]) # values\n",
    "        fig.set_yticklabels(['BAD','GOOD']) # labels\n",
    "        plt.imshow(P, cmap=mpl.cm.Blues, interpolation='nearest', vmin=0, vmax=1)\n",
    "        for i in range(2):\n",
    "            for j in range(2):\n",
    "                plt.text(j, i, int(M[i][j]), ha=\"center\", va=\"center\", color=\"black\" if P[i][j]<0.9 else \"white\", fontsize=12)\n",
    "        # fig2 - precision\n",
    "        fig = plt.subplot(1,3,2)\n",
    "        plt.title(f\"Confusion Matrix - Row norm (Precision)\", fontsize=12)\n",
    "        plt.xlabel(\"GT\", fontsize=12)\n",
    "        plt.ylabel(\"PD\", fontsize=12)\n",
    "        fig.set_xticks([0,1]) # values\n",
    "        fig.set_xticklabels(['BAD','GOOD']) # labels\n",
    "        fig.set_yticks([0,1]) # values\n",
    "        fig.set_yticklabels(['BAD','GOOD']) # labels\n",
    "        plt.imshow(P, cmap=mpl.cm.Blues, interpolation='nearest', vmin=0, vmax=1)\n",
    "        for i in range(2):\n",
    "            for j in range(2):\n",
    "                plt.text(j, i, round(P[i][j],3), ha=\"center\", va=\"center\", color=\"black\" if P[i][j]<0.9 else \"white\", fontsize=12)\n",
    "        # fig3 - recall\n",
    "        fig = plt.subplot(1,3,3)\n",
    "        plt.title(f\"Confusion Matrix - Col norm (Recall)\", fontsize=12)\n",
    "        plt.xlabel(\"GT\", fontsize=12)\n",
    "        plt.ylabel(\"PD\", fontsize=12)\n",
    "        fig.set_xticks([0,1]) # values\n",
    "        fig.set_xticklabels(['BAD','GOOD']) # labels\n",
    "        fig.set_yticks([0,1]) # values\n",
    "        fig.set_yticklabels(['BAD','GOOD']) # labels\n",
    "        plt.imshow(N, cmap=mpl.cm.Blues, interpolation='nearest', vmin=0, vmax=1)\n",
    "        for i in range(2):\n",
    "            for j in range(2):\n",
    "                plt.text(j, i, round(N[i][j],3), ha=\"center\", va=\"center\", color=\"black\" if N[i][j]<0.9 else \"white\", fontsize=12)\n",
    "        #plt.colorbar(mpl.cm.ScalarMappable(cmap=mpl.cm.Blues))\n",
    "        plt.savefig(f\"{self.outputPath}/confusion.jpg\")\n",
    "        plt.show()\n",
    "        json.dump( pathM, open(f\"{self.outputPath}/confusion.json\", \"w\") ) # 00:PD_B_GT_B, 01:PD_B_GT_G, 10:PD_G_GT_B, 11:PD_G_GT_G"
   ]
  },
  {
   "cell_type": "code",
   "execution_count": 3,
   "id": "rocky-strike",
   "metadata": {},
   "outputs": [
    {
     "name": "stdout",
     "output_type": "stream",
     "text": [
      "predict negative rate = 0.01424308956820357\n"
     ]
    },
    {
     "data": {
      "image/png": "[encoded data removed]",
      "text/plain": [
       "<Figure size 432x288 with 1 Axes>"
      ]
     },
     "metadata": {
      "needs_background": "light"
     },
     "output_type": "display_data"
    }
   ],
   "source": [
    "obj = ResultUnlabeled(pdNpyPath=\"../experiments/multimodal/_old/cats_vs_dogs_mam_v1_inf_all/class_0/model/o_test_finetuned_samples_likelihood.npy\",\n",
    "                      c0ImgPathL=sorted(glob.glob(f\"../_data/_old/mam_v0_unlabeled/test/c0/*.png\")),\n",
    "                      threshold=0.5\n",
    ")\n",
    "obj.plotDistribution()\n",
    "obj.visualize()"
   ]
  },
  {
   "cell_type": "code",
   "execution_count": 4,
   "id": "british-release",
   "metadata": {},
   "outputs": [
    {
     "data": {
      "image/png": "[encoded data removed]",
      "text/plain": [
       "<Figure size 1080x288 with 3 Axes>"
      ]
     },
     "metadata": {
      "needs_background": "light"
     },
     "output_type": "display_data"
    }
   ],
   "source": [
    "TP = []\n",
    "FP = list(range(30))\n",
    "FN = []\n",
    "TN = list(range(30))\n",
    "obj.save(TP, FP, FN, TN)"
   ]
  },
  {
   "cell_type": "code",
   "execution_count": null,
   "id": "numerical-course",
   "metadata": {},
   "outputs": [],
   "source": []
  }
 ],
 "metadata": {
  "kernelspec": {
   "display_name": "Python 3",
   "language": "python",
   "name": "python3"
  },
  "language_info": {
   "codemirror_mode": {
    "name": "ipython",
    "version": 3
   },
   "file_extension": ".py",
   "mimetype": "text/x-python",
   "name": "python",
   "nbconvert_exporter": "python",
   "pygments_lexer": "ipython3",
   "version": "3.8.5"
  }
 },
 "nbformat": 4,
 "nbformat_minor": 5
}

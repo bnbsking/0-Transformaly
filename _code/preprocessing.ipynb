{
 "cells": [
  {
   "cell_type": "code",
   "execution_count": 1,
   "id": "helpful-violation",
   "metadata": {},
   "outputs": [],
   "source": [
    "# import glob, pickle\n",
    "# import numpy as np\n",
    "# import cv2 \n",
    "\n",
    "# class Preprocess: # cat dog\n",
    "#     def __init__(self, imgPath, antPath, outputPath):\n",
    "#         self.imgPathL = sorted( glob.glob(f\"{imgPath}/*.jpg\") )\n",
    "#         self.antPathL = sorted( glob.glob(f\"{antPath}/*.txt\") )        \n",
    "#         self.outputPath = outputPath\n",
    "        \n",
    "#     def f(self):\n",
    "#         os.makedirs(f\"{self.outputPath}/train/good\", exist_ok=True)\n",
    "#         os.makedirs(f\"{self.outputPath}/train/bad\", exist_ok=True)\n",
    "#         os.makedirs(f\"{self.outputPath}/eval/good\", exist_ok=True)\n",
    "#         os.makedirs(f\"{self.outputPath}/eval/bad\", exist_ok=True)\n",
    "#         # meta\n",
    "        \n",
    "#     def g(self):\n",
    "#         pass"
   ]
  },
  {
   "cell_type": "code",
   "execution_count": null,
   "id": "divided-headset",
   "metadata": {},
   "outputs": [],
   "source": [
    "#obj = Preprocess(imgPath=\"/home/jovyan/...\", antPath=\"/home/jovyan/...\", outputPath=\"/home/jovyan/data-vol-1/Transformaly/_data/example/cifar10/cifar-10-batches-py\")"
   ]
  },
  {
   "cell_type": "code",
   "execution_count": null,
   "id": "proper-astronomy",
   "metadata": {},
   "outputs": [],
   "source": []
  },
  {
   "cell_type": "code",
   "execution_count": 6,
   "id": "brave-explanation",
   "metadata": {},
   "outputs": [
    {
     "name": "stdout",
     "output_type": "stream",
     "text": [
      "17763\n",
      "7\n"
     ]
    }
   ],
   "source": [
    "! ls /home/jovyan/nas-dataset/JUPR/MAM20044/Good | grep png | wc -l\n",
    "! ls /home/jovyan/nas-dataset/JUPR/MAM20044/Bad | grep png | wc -l"
   ]
  },
  {
   "cell_type": "code",
   "execution_count": 13,
   "id": "valued-bradford",
   "metadata": {},
   "outputs": [
    {
     "name": "stdout",
     "output_type": "stream",
     "text": [
      "100\n",
      "7\n",
      "20\n",
      "7\n"
     ]
    }
   ],
   "source": [
    "import os, glob, random, shutil\n",
    "import cv2\n",
    "\n",
    "bdImgL = sorted( glob.glob(\"/home/jovyan/nas-dataset/JUPR/MAM20044/Bad/*.png\") )\n",
    "gdImgL = sorted( glob.glob(\"/home/jovyan/nas-dataset/JUPR/MAM20044/Good/*.png\") )\n",
    "\n",
    "random.Random(7).shuffle(bdImgL)\n",
    "random.Random(7).shuffle(gdImgL)\n",
    "\n",
    "os.makedirs(\"../_data/mam/train/bad\", exist_ok=True)\n",
    "os.makedirs(\"../_data/mam/train/good\", exist_ok=True)\n",
    "os.makedirs(\"../_data/mam/eval/bad\", exist_ok=True)\n",
    "os.makedirs(\"../_data/mam/eval/good\", exist_ok=True)\n",
    "\n",
    "for imgPath in bdImgL[:]:\n",
    "    flpImg = cv2.imread(imgPath)[:,::-1,:]\n",
    "    if random.random()>0.5:\n",
    "        shutil.copy(imgPath, \"../_data/mam/train/bad\")\n",
    "        cv2.imwrite(f\"../_data/mam/eval/bad/{os.path.basename(imgPath)}\", flpImg)\n",
    "    else:\n",
    "        shutil.copy(imgPath, \"../_data/mam/eval/bad\")\n",
    "        cv2.imwrite(f\"../_data/mam/train/bad/{os.path.basename(imgPath)}\", flpImg)\n",
    "for imgPath in gdImgL[:100]:\n",
    "    shutil.copy(imgPath, \"../_data/mam/train/good\")\n",
    "for imgPath in gdImgL[100:120]:\n",
    "    shutil.copy(imgPath, \"../_data/mam/eval/good\")\n",
    "\n",
    "print( len(glob.glob(\"../_data/mam/train/bad/*.png\")) ) # 7\n",
    "print( len(glob.glob(\"../_data/mam/train/good/*.png\")) ) # 100\n",
    "print( len(glob.glob(\"../_data/mam/eval/bad/*.png\")) ) # 7\n",
    "print( len(glob.glob(\"../_data/mam/eval/good/*.png\")) ) # 20"
   ]
  },
  {
   "cell_type": "code",
   "execution_count": null,
   "id": "white-nowhere",
   "metadata": {},
   "outputs": [],
   "source": []
  }
 ],
 "metadata": {
  "kernelspec": {
   "display_name": "Python 3",
   "language": "python",
   "name": "python3"
  },
  "language_info": {
   "codemirror_mode": {
    "name": "ipython",
    "version": 3
   },
   "file_extension": ".py",
   "mimetype": "text/x-python",
   "name": "python",
   "nbconvert_exporter": "python",
   "pygments_lexer": "ipython3",
   "version": "3.8.5"
  }
 },
 "nbformat": 4,
 "nbformat_minor": 5
}

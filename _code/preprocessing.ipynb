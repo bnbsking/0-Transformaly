{
 "cells": [
  {
   "cell_type": "code",
   "execution_count": 1,
   "id": "downtown-gather",
   "metadata": {},
   "outputs": [],
   "source": [
    "import os, glob, random, shutil, json"
   ]
  },
  {
   "cell_type": "code",
   "execution_count": 2,
   "id": "mental-tribune",
   "metadata": {},
   "outputs": [
    {
     "name": "stdout",
     "output_type": "stream",
     "text": [
      "7\n",
      "17763\n",
      "104\n"
     ]
    }
   ],
   "source": [
    "! ls /home/jovyan/nas-dataset/JUPR/MAM20044/Bad/*.png | wc -l\n",
    "! ls /home/jovyan/nas-dataset/JUPR/MAM20044/Good/*.png | wc -l\n",
    "! ls /home/jovyan/nas-dataset/JUPR/888/*.jpg | wc -l"
   ]
  },
  {
   "cell_type": "code",
   "execution_count": 5,
   "id": "instrumental-impact",
   "metadata": {},
   "outputs": [],
   "source": [
    "blackS = {\n",
    "    \"R3_MAM20044_1FDG71002398010E0AL00NU1_1603232235654.png\",\\\n",
    "    \"R3_MAM20044_1FDG71002398010E0AL00NUS_1603232235654.png\",\\\n",
    "    \"R3_MAM20044_1FDG71002398010E0AL00PLE_1603231217066.png\",\\\n",
    "} # not really good (prevent good from referencing)\n",
    "\n",
    "class Preprocess:\n",
    "    def __init__(self, outputFolder, mode, imgPathL1, imgPathL2, activeJsonPath=None):\n",
    "        \"\"\"\n",
    "        mode     imgPathL1                   imgPathL2 (always good)  \n",
    "        + train: bad for validation (ood)  & good for train \n",
    "        + eval : c0  for unlabeled testing & c1   same as above\n",
    "        activeJsonPath\n",
    "        + 00: PD_B_GT_B, \n",
    "        + 01: PD_B_GT_G, add to trainset (FP) hard\n",
    "        + 10: PD_G_GT_B, add to badList  (FN)\n",
    "        + 11: PD_G_GT_G, add to trainset (TN) easy\n",
    "        \"\"\"\n",
    "        global blackS\n",
    "        if activeJsonPath:\n",
    "            pathM  = json.load( open(activeJsonPath,\"r\") )\n",
    "            blackS = blackS.union( { os.path.basename(path) for path in pathM[1][0] } ) # FN\n",
    "            imgPathL2 += [ f\"{os.path.dirname(imgPathL2[0])}/{os.path.basename(path)}\" for path in pathM[0][1]+pathM[1][1] ] # FP, TN\n",
    "        imgPathL2 = [ imgPath for imgPath in imgPathL2 if os.path.basename(imgPath) not in blackS ]\n",
    "        for className,imgPathL in zip(['bad','good'] if mode=='train' else ['c0','c1'], [imgPathL1,imgPathL2]):\n",
    "            folder = f\"{outputFolder}/{mode}/{className}\"\n",
    "            os.makedirs(folder, exist_ok=True)\n",
    "            for imgPath in imgPathL:\n",
    "                shutil.copy(imgPath, folder)\n",
    "            print( f\"len(os.listdir({folder})) = {len(os.listdir(folder))}\" )"
   ]
  },
  {
   "cell_type": "code",
   "execution_count": 6,
   "id": "convenient-wound",
   "metadata": {},
   "outputs": [
    {
     "name": "stdout",
     "output_type": "stream",
     "text": [
      "len(os.listdir(../_data/mam_v1/train/bad)) = 7\n",
      "len(os.listdir(../_data/mam_v1/train/good)) = 99\n",
      "len(os.listdir(../_data/mam_v1/eval/c0)) = 17765\n",
      "len(os.listdir(../_data/mam_v1/eval/c1)) = 99\n"
     ]
    }
   ],
   "source": [
    "bImgPathL = sorted(glob.glob(\"/home/jovyan/nas-dataset/JUPR/MAM20044/Bad/*.png\"))\n",
    "gImgPathL = sorted(glob.glob(\"/home/jovyan/nas-dataset/JUPR/MAM20044/Good/*.png\"))\n",
    "random.Random(7).shuffle( gImgPathL )\n",
    "\n",
    "obj = Preprocess( outputFolder=\"../_data/mam_v1\", mode=\"train\", imgPathL1=bImgPathL,           imgPathL2=gImgPathL[:100], activeJsonPath=None)\n",
    "obj = Preprocess( outputFolder=\"../_data/mam_v1\", mode=\"eval\" , imgPathL1=bImgPathL+gImgPathL, imgPathL2=gImgPathL[:100], activeJsonPath=None)"
   ]
  },
  {
   "cell_type": "code",
   "execution_count": null,
   "id": "selected-collective",
   "metadata": {},
   "outputs": [],
   "source": []
  }
 ],
 "metadata": {
  "kernelspec": {
   "display_name": "Python 3",
   "language": "python",
   "name": "python3"
  },
  "language_info": {
   "codemirror_mode": {
    "name": "ipython",
    "version": 3
   },
   "file_extension": ".py",
   "mimetype": "text/x-python",
   "name": "python",
   "nbconvert_exporter": "python",
   "pygments_lexer": "ipython3",
   "version": "3.8.5"
  }
 },
 "nbformat": 4,
 "nbformat_minor": 5
}
